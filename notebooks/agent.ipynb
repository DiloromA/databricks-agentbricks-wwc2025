{
 "cells": [
  {
   "cell_type": "markdown",
   "metadata": {
    "application/vnd.databricks.v1+cell": {
     "cellMetadata": {
      "byteLimit": 2048000,
      "rowLimit": 10000
     },
     "inputWidgets": {},
     "nuid": "a4e4d3fc-b830-4858-bf94-643c1dc4ee58",
     "showTitle": false,
     "tableResultSettingsMap": {},
     "title": ""
    }
   },
   "source": [
    "# Unified Agent Notebook (Playground → Code)\n",
    "\n",
    "This notebook contains **everything in one place**:\n",
    "1) install deps, \n",
    "2) define & save `agent.py`, \n",
    "3) quick test, \n",
    "4) MLflow log (runs:/), \n",
    "5) register in Unity Catalog, \n",
    "6) optional deploy.\n",
    "\n",
    "**What’s fixed vs the auto-generated one:**\n",
    "- Uses an **explicit UC Function client** to avoid default-auth errors\n",
    "- Logs the model as a **run artifact** (so we always get `runs:/...`)\n",
    "- Registers to UC using **`MlflowClient.create_model_version`** with the `runs:/...` source\n",
    "- No wildcard tool names (only explicit UC functions) to prevent resolution issues\n"
   ]
  },
  {
   "cell_type": "code",
   "execution_count": 0,
   "metadata": {
    "application/vnd.databricks.v1+cell": {
     "cellMetadata": {
      "byteLimit": 2048000,
      "rowLimit": 10000
     },
     "inputWidgets": {},
     "nuid": "cedde443-8a23-4dd6-84e8-d369fc43c2e4",
     "showTitle": false,
     "tableResultSettingsMap": {},
     "title": ""
    }
   },
   "outputs": [],
   "source": [
    "# Install dependencies\n",
    "%pip install -U databricks-openai databricks-agents \"mlflow-skinny[databricks]\" databricks-sdk unitycatalog-ai backoff uv\n",
    "try:\n",
    "    dbutils.library.restartPython()\n",
    "except Exception as e:\n",
    "    print(\"Note: restartPython is available in Databricks notebooks only. Continuing...\", e)"
   ]
  },
  {
   "cell_type": "code",
   "execution_count": 0,
   "metadata": {
    "application/vnd.databricks.v1+cell": {
     "cellMetadata": {
      "byteLimit": 2048000,
      "rowLimit": 10000
     },
     "inputWidgets": {},
     "nuid": "39fbb182-0339-4d48-aba8-5f5fc1a7f9ac",
     "showTitle": false,
     "tableResultSettingsMap": {},
     "title": ""
    }
   },
   "outputs": [],
   "source": [
    "# Set tracking/registry URIs and UC context **before** any logging/registration\n",
    "import mlflow\n",
    "\n",
    "# URIs\n",
    "mlflow.set_tracking_uri(\"databricks\")\n",
    "mlflow.set_registry_uri(\"databricks-uc\")\n",
    "\n",
    "# Target UC location (EDIT HERE if needed)\n",
    "catalog = \"wwc2025\"\n",
    "schema = \"period_pipeline\"\n",
    "model_name = \"wellness_agent\"\n",
    "\n",
    "UC_MODEL_NAME = f\"{catalog}.{schema}.{model_name}\"\n",
    "\n",
    "# Make sure session is in the right catalog/schema (Databricks runtime)\n",
    "try:\n",
    "    spark.sql(f\"USE CATALOG {catalog}\")\n",
    "    spark.sql(f\"USE SCHEMA {schema}\")\n",
    "except Exception as e:\n",
    "    print(\"Skipping USE CATALOG/SCHEMA (likely not on Databricks runtime):\", e)\n",
    "\n",
    "print(\"Tracking URI:\", mlflow.get_tracking_uri())\n",
    "print(\"Registry URI:\", mlflow.get_registry_uri())\n",
    "print(\"UC target:\", UC_MODEL_NAME)"
   ]
  },
  {
   "cell_type": "code",
   "execution_count": 0,
   "metadata": {
    "application/vnd.databricks.v1+cell": {
     "cellMetadata": {
      "byteLimit": 2048000,
      "rowLimit": 10000
     },
     "inputWidgets": {},
     "nuid": "1b8a59fc-a496-4285-a78c-646cb50e3848",
     "showTitle": false,
     "tableResultSettingsMap": {},
     "title": ""
    }
   },
   "outputs": [],
   "source": [
    "%%writefile agent.py\n",
    "# agent.py — tool-calling agent with explicit UC function client\n",
    "\n",
    "import json\n",
    "from typing import Any, Callable, Generator, Optional\n",
    "from uuid import uuid4\n",
    "import warnings\n",
    "\n",
    "import mlflow\n",
    "from databricks.sdk import WorkspaceClient\n",
    "from databricks_openai import UCFunctionToolkit\n",
    "from mlflow.entities import SpanType\n",
    "from mlflow.pyfunc import ResponsesAgent\n",
    "from mlflow.types.responses import (\n",
    "    ResponsesAgentRequest,\n",
    "    ResponsesAgentResponse,\n",
    "    ResponsesAgentStreamEvent,\n",
    ")\n",
    "from openai import OpenAI\n",
    "from pydantic import BaseModel\n",
    "from unitycatalog.ai.core.databricks import DatabricksFunctionClient\n",
    "\n",
    "\n",
    "# ---- LLM endpoint (EDIT if you use a different one) ----\n",
    "LLM_ENDPOINT_NAME = \"databricks-meta-llama-3-3-70b-instruct\"\n",
    "\n",
    "# ---- System prompt (kept simple to avoid formatting pitfalls) ----\n",
    "SYSTEM_PROMPT = (\n",
    "    \"\"\"You are a Women's Health and Wellness Advisor Agent built on Databricks.\n",
    "You analyze period and symptom data to provide educational and supportive insights.\n",
    "- You are not a doctor; always include a disclaimer.\n",
    "- Use empathetic, supportive tone and simple explanations.\n",
    "- When explaining results, focus on patterns and what they might suggest, not diagnoses.\n",
    "- Use safe, evidence-based general information.\n",
    "- Never share or infer private data across users. \n",
    "If the user does not provide a user_id, never call tools that require p_user_id. Prefer aggregate SQL over governed gold tables or call aggregate-capable tools only.\"\"\"\n",
    ")\n",
    "\n",
    "class ToolInfo(BaseModel):\n",
    "    name: str\n",
    "    spec: dict\n",
    "    exec_fn: Callable\n",
    "\n",
    "def create_tool_info(tool_spec: dict, exec_fn_param: Optional[Callable] = None) -> \"ToolInfo\":\n",
    "    tool_spec.get(\"function\", {}).pop(\"strict\", None)\n",
    "    tool_name = tool_spec[\"function\"][\"name\"]\n",
    "    udf_name = tool_name.replace(\"__\", \".\")\n",
    "\n",
    "    def exec_fn(**kwargs):\n",
    "        function_result = UC_FUNCTION_CLIENT.execute_function(udf_name, kwargs)\n",
    "        if function_result.error is not None:\n",
    "            return function_result.error\n",
    "        else:\n",
    "            return function_result.value\n",
    "\n",
    "    return ToolInfo(name=tool_name, spec=tool_spec, exec_fn=exec_fn_param or exec_fn)\n",
    "\n",
    "# ---- Explicit UC Function client (avoid default auth discovery issues) ----\n",
    "WORKSPACE_CLIENT = WorkspaceClient()\n",
    "UC_FUNCTION_CLIENT = DatabricksFunctionClient(workspace_client=WORKSPACE_CLIENT)\n",
    "\n",
    "# ---- List **explicit** UC function names (no wildcards) ----\n",
    "UC_TOOL_NAMES = [\n",
    "    \"wwc2025.period_pipeline.recommend_wellness_bundle\",\n",
    "    \"wwc2025.period_pipeline.get_short_intervals\",\n",
    "    \"wwc2025.period_pipeline.find_users_by_avg_cycle_length\",\n",
    "    \"wwc2025.period_pipeline.get_abnormal_cycles\",\n",
    "    \"wwc2025.period_pipeline.get_user_metrics\",\n",
    "    \"wwc2025.period_pipeline.get_long_bleeds\",\n",
    "    \"wwc2025.period_pipeline.predict_next_period_row\",\n",
    "]\n",
    "\n",
    "# Build tools with the explicit client\n",
    "uc_toolkit = UCFunctionToolkit(function_names=UC_TOOL_NAMES, client=UC_FUNCTION_CLIENT)\n",
    "TOOL_INFOS = [create_tool_info(tool_spec) for tool_spec in uc_toolkit.tools]\n",
    "\n",
    "class ToolCallingAgent(ResponsesAgent):\n",
    "    def __init__(self, llm_endpoint: str, tools: list[ToolInfo]):\n",
    "        self.llm_endpoint = llm_endpoint\n",
    "        self.workspace_client = WORKSPACE_CLIENT\n",
    "        self.model_serving_client: OpenAI = self.workspace_client.serving_endpoints.get_open_ai_client()\n",
    "        self._tools_dict = {tool.name: tool for tool in tools}\n",
    "\n",
    "    def get_tool_specs(self) -> list[dict]:\n",
    "        return [tool_info.spec for tool_info in self._tools_dict.values()]\n",
    "\n",
    "    @mlflow.trace(span_type=SpanType.TOOL)\n",
    "    def execute_tool(self, tool_name: str, args: dict) -> Any:\n",
    "        return self._tools_dict[tool_name].exec_fn(**args)\n",
    "\n",
    "    def call_llm(self, messages: list[dict[str, Any]]) -> Generator[dict[str, Any], None, None]:\n",
    "        with warnings.catch_warnings():\n",
    "            warnings.filterwarnings(\"ignore\", message=\"PydanticSerializationUnexpectedValue\")\n",
    "            for chunk in self.model_serving_client.chat.completions.create(\n",
    "                model=self.llm_endpoint,\n",
    "                messages=self.prep_msgs_for_cc_llm(messages),\n",
    "                tools=self.get_tool_specs(),\n",
    "                stream=True,\n",
    "            ):\n",
    "                yield chunk.to_dict()\n",
    "\n",
    "    def handle_tool_call(self, tool_call: dict[str, Any], messages: list[dict[str, Any]]) -> ResponsesAgentStreamEvent:\n",
    "        args = json.loads(tool_call[\"arguments\"])\n",
    "        result = str(self.execute_tool(tool_name=tool_call[\"name\"], args=args))\n",
    "        tool_call_output = self.create_function_call_output_item(tool_call[\"call_id\"], result)\n",
    "        messages.append(tool_call_output)\n",
    "        return ResponsesAgentStreamEvent(type=\"response.output_item.done\", item=tool_call_output)\n",
    "\n",
    "    def call_and_run_tools(self, messages: list[dict[str, Any]], max_iter: int = 10\n",
    "                           ) -> Generator[ResponsesAgentStreamEvent, None, None]:\n",
    "        for _ in range(max_iter):\n",
    "            last_msg = messages[-1]\n",
    "            if last_msg.get(\"role\") == \"assistant\":\n",
    "                return\n",
    "            elif last_msg.get(\"type\") == \"function_call\":\n",
    "                yield self.handle_tool_call(last_msg, messages)\n",
    "            else:\n",
    "                yield from self.output_to_responses_items_stream(\n",
    "                    chunks=self.call_llm(messages), aggregator=messages\n",
    "                )\n",
    "\n",
    "        yield ResponsesAgentStreamEvent(\n",
    "            type=\"response.output_item.done\",\n",
    "            item=self.create_text_output_item(\"Max iterations reached. Stopping.\", str(uuid4())),\n",
    "        )\n",
    "\n",
    "    def predict(self, request: ResponsesAgentRequest) -> ResponsesAgentResponse:\n",
    "        outputs = [\n",
    "            event.item\n",
    "            for event in self.predict_stream(request)\n",
    "            if event.type == \"response.output_item.done\"\n",
    "        ]\n",
    "        return ResponsesAgentResponse(output=outputs, custom_outputs=request.custom_inputs)\n",
    "\n",
    "    def predict_stream(self, request: ResponsesAgentRequest\n",
    "                       ) -> Generator[ResponsesAgentStreamEvent, None, None]:\n",
    "        messages = self.prep_msgs_for_cc_llm([i.model_dump() for i in request.input])\n",
    "        if SYSTEM_PROMPT:\n",
    "            messages.insert(0, {\"role\": \"system\", \"content\": SYSTEM_PROMPT})\n",
    "        yield from self.call_and_run_tools(messages=messages)\n",
    "\n",
    "# Expose an MLflow model object\n",
    "mlflow.openai.autolog()\n",
    "AGENT = ToolCallingAgent(llm_endpoint=LLM_ENDPOINT_NAME, tools=TOOL_INFOS)\n",
    "mlflow.models.set_model(AGENT)\n"
   ]
  },
  {
   "cell_type": "code",
   "execution_count": 0,
   "metadata": {
    "application/vnd.databricks.v1+cell": {
     "cellMetadata": {
      "byteLimit": 2048000,
      "rowLimit": 10000
     },
     "inputWidgets": {},
     "nuid": "fcf968b3-6517-4aa3-ae0a-6f2153e4ed3a",
     "showTitle": false,
     "tableResultSettingsMap": {},
     "title": ""
    }
   },
   "outputs": [],
   "source": [
    "# Import the freshly written module and do a quick smoke test\n",
    "from agent import AGENT, UC_TOOL_NAMES, LLM_ENDPOINT_NAME\n",
    "\n",
    "print(\"Tools wired:\", UC_TOOL_NAMES)\n",
    "resp = AGENT.predict({\"input\": [{\"role\": \"user\", \"content\": \"What is 3*4 in Python?\"}]})\n",
    "print(\"Smoke test output items:\", [o.model_dump() for o in resp.output][:1])"
   ]
  },
  {
   "cell_type": "code",
   "execution_count": 0,
   "metadata": {
    "application/vnd.databricks.v1+cell": {
     "cellMetadata": {
      "byteLimit": 2048000,
      "rowLimit": 10000
     },
     "inputWidgets": {},
     "nuid": "50eec243-1125-4e18-b788-96b2ce97837d",
     "showTitle": false,
     "tableResultSettingsMap": {},
     "title": ""
    }
   },
   "outputs": [],
   "source": [
    "# Prepare resources and log the model as a run artifact (runs:/<run_id>/agent)\n",
    "from mlflow.models.resources import DatabricksFunction, DatabricksServingEndpoint\n",
    "from pkg_resources import get_distribution\n",
    "\n",
    "resources = [DatabricksServingEndpoint(endpoint_name=LLM_ENDPOINT_NAME)]\n",
    "for fn in UC_TOOL_NAMES:\n",
    "    resources.append(DatabricksFunction(function_name=fn))\n",
    "\n",
    "# Replace the current input_example with this:\n",
    "input_example = {\"input\": [{\"role\": \"user\", \"content\": \"How many days of period a woman experience around the age\"}]}\n",
    "\n",
    "\n",
    "with mlflow.start_run() as run:\n",
    "    logged_info = mlflow.pyfunc.log_model(\n",
    "        artifact_path=\"agent\",\n",
    "        python_model=\"agent.py\",\n",
    "        input_example=input_example,\n",
    "        pip_requirements=[\n",
    "            \"databricks-openai\",\n",
    "            \"backoff\",\n",
    "            f\"databricks-connect=={get_distribution('databricks-connect').version}\",\n",
    "        ],\n",
    "        resources=resources,\n",
    "    )\n",
    "    runs_source = f\"runs:/{run.info.run_id}/agent\"\n",
    "\n",
    "print(\"Logged run URI:\", runs_source)"
   ]
  },
  {
   "cell_type": "code",
   "execution_count": 0,
   "metadata": {
    "application/vnd.databricks.v1+cell": {
     "cellMetadata": {
      "byteLimit": 2048000,
      "rowLimit": 10000
     },
     "inputWidgets": {},
     "nuid": "4aa4e460-1f2a-498c-9461-35591d9dd2bc",
     "showTitle": false,
     "tableResultSettingsMap": {},
     "title": ""
    }
   },
   "outputs": [],
   "source": [
    "loaded = mlflow.pyfunc.load_model(runs_source)\n",
    "out = loaded.predict({\"input\": [{\"role\": \"user\", \"content\": \"Predict next period start day for user 87\"}]})\n"
   ]
  },
  {
   "cell_type": "code",
   "execution_count": 0,
   "metadata": {
    "application/vnd.databricks.v1+cell": {
     "cellMetadata": {
      "byteLimit": 2048000,
      "rowLimit": 10000
     },
     "inputWidgets": {},
     "nuid": "c51353bf-41e9-4079-a168-50cf079dcc39",
     "showTitle": false,
     "tableResultSettingsMap": {},
     "title": ""
    }
   },
   "outputs": [],
   "source": [
    "loaded.predict({\"input\": [{\"role\": \"user\", \"content\": \"How many users have long bleed\"}]})"
   ]
  },
  {
   "cell_type": "code",
   "execution_count": 0,
   "metadata": {
    "application/vnd.databricks.v1+cell": {
     "cellMetadata": {
      "byteLimit": 2048000,
      "rowLimit": 10000
     },
     "inputWidgets": {},
     "nuid": "058967c0-80d0-498e-a9b1-a82b9a7fa160",
     "showTitle": false,
     "tableResultSettingsMap": {},
     "title": ""
    }
   },
   "outputs": [],
   "source": [
    "loaded.predict({\"input\": [{\"role\": \"user\", \"content\": \"Return overall statistics — total users analyzed, number and percentage of users with irregular patterns.Provide a short explanation of what “irregular cycle” means in data-tracking terms (educational only, not medical advice)\"}]})"
   ]
  },
  {
   "cell_type": "code",
   "execution_count": 0,
   "metadata": {
    "application/vnd.databricks.v1+cell": {
     "cellMetadata": {
      "byteLimit": 2048000,
      "rowLimit": 10000
     },
     "inputWidgets": {},
     "nuid": "dccc1b75-e4e9-422a-a385-0b1904e15934",
     "showTitle": false,
     "tableResultSettingsMap": {},
     "title": ""
    }
   },
   "outputs": [],
   "source": [
    "loaded.predict({\"input\": [{\"role\": \"user\", \"content\": \n",
    "\"\"\"\n",
    "User 40 would like personalized guidance for the next 5 days.\n",
    "Retrieve and analyze her last 40 cycle and symptom logs, along with her current cycle phase, life stage, and recorded preferences.\n",
    "Identify key patterns in her recent data — including mood trends, symptom frequency, and energy levels — that may influence nutrition and wellness needs.\n",
    "Based on her current phase, recommend 5 meal and wellness options, one for each of the next 5 days, that align with her physiological patterns and lifestyle.\n",
    "Each recommendation should include both meal guidance and at least one complementary wellness activity (e.g., movement, rest, mindfulness, hydration).\n",
    "Provide an explanation of the reasoning behind these recommendations, referencing how her phase, logs, and preferences informed each suggestion.\n",
    "Use supportive, educational language (not medical advice).\n",
    "\"\"\"}]})"
   ]
  },
  {
   "cell_type": "code",
   "execution_count": 0,
   "metadata": {
    "application/vnd.databricks.v1+cell": {
     "cellMetadata": {
      "byteLimit": 2048000,
      "rowLimit": 10000
     },
     "inputWidgets": {},
     "nuid": "b35d2720-57b4-4702-a79d-23f97034e6fd",
     "showTitle": false,
     "tableResultSettingsMap": {},
     "title": ""
    }
   },
   "outputs": [],
   "source": [
    "\n",
    "loaded.predict({\"input\": [{\"role\": \"user\", \"content\": \n",
    "\"\"\"\n",
    "User 18 will be out of town in Oct 6-10 to attend conferences.\n",
    "Using her historical cycle data, current cycle phase, symptom and mood logs, and life stage, determine which cycle phase each of those travel days falls into.\n",
    "Assess whether these days are optimal for travel given her typical patterns; if not ideal, explain risks and mitigations.\n",
    "Predict her next period start date and state clearly if it is expected to occur during the 4-day trip.\n",
    "Provide practical travel tips tailored to the predicted phases (energy, sleep, hydration, nutrition, comfort).\n",
    "Recommend a day-by-day meal and activity plan for the 4 days (workload pacing, movement, meals, self-care), aligned to her phase and recent trends.\n",
    "Include your reasoning and reference any relevant trends you used (e.g., average cycle length, typical symptom timing). Use supportive, non-medical language.\n",
    "\"\"\"}]})"
   ]
  },
  {
   "cell_type": "code",
   "execution_count": 0,
   "metadata": {
    "application/vnd.databricks.v1+cell": {
     "cellMetadata": {
      "byteLimit": 2048000,
      "rowLimit": 10000
     },
     "inputWidgets": {},
     "nuid": "057f96c1-0c4e-46c5-a739-8e8be9a3baf6",
     "showTitle": false,
     "tableResultSettingsMap": {},
     "title": ""
    }
   },
   "outputs": [],
   "source": [
    "loaded.predict({\"input\": [{\"role\": \"user\", \"content\": \n",
    "\"\"\"\n",
    "User 30 is planning a 5-day vacation during the first two weeks of December.\n",
    "Use her historical cycle data and symptom logs to determine what phase she is likely to be in around that time.\n",
    "Based on her typical patterns and recent wellness indicators, assess whether this period is optimal for travel.\n",
    "If not, recommend the best alternative windows for travel within December.\n",
    "Provide practical guidance on how she can manage her wellness, energy, and mood during the trip if she travels anyway.\n",
    "Explain your reasoning and reference relevant cycle trends or data patterns.\n",
    "\"\"\"}]})"
   ]
  },
  {
   "cell_type": "code",
   "execution_count": 0,
   "metadata": {
    "application/vnd.databricks.v1+cell": {
     "cellMetadata": {
      "byteLimit": 2048000,
      "rowLimit": 10000
     },
     "inputWidgets": {},
     "nuid": "0f938ea5-4f1d-46c0-9a8b-91630fdf760e",
     "showTitle": false,
     "tableResultSettingsMap": {},
     "title": ""
    }
   },
   "outputs": [],
   "source": [
    "# Register to Unity Catalog by creating a new version from runs_source\n",
    "from mlflow.tracking import MlflowClient\n",
    "\n",
    "client = MlflowClient()\n",
    "try:\n",
    "    client.get_registered_model(UC_MODEL_NAME)\n",
    "    print(\"UC registered model exists:\", UC_MODEL_NAME)\n",
    "except Exception:\n",
    "    client.create_registered_model(UC_MODEL_NAME)\n",
    "    print(\"Created UC registered model:\", UC_MODEL_NAME)\n",
    "\n",
    "mv = client.create_model_version(name=UC_MODEL_NAME, source=runs_source)\n",
    "print(f\"✅ Created UC model version {mv.version} for {UC_MODEL_NAME}\")"
   ]
  },
  {
   "cell_type": "code",
   "execution_count": 0,
   "metadata": {
    "application/vnd.databricks.v1+cell": {
     "cellMetadata": {
      "byteLimit": 2048000,
      "rowLimit": 10000
     },
     "inputWidgets": {},
     "nuid": "94dc279b-6122-44c4-85ae-073fc36f03cf",
     "showTitle": false,
     "tableResultSettingsMap": {},
     "title": ""
    }
   },
   "outputs": [],
   "source": [
    "# (Optional) Deploy to a serving endpoint if you want\n",
    "try:\n",
    "    from databricks import agents\n",
    "    agents.deploy(UC_MODEL_NAME, mv.version, scale_to_zero=True, tags={\"endpointSource\": \"playground\"})\n",
    "    print(\"Deployment requested for:\", UC_MODEL_NAME, f\"v{mv.version}\")\n",
    "except Exception as e:\n",
    "    print(\"Skipping deploy (agents SDK not available or insufficient permissions):\", e)"
   ]
  },
  {
   "cell_type": "code",
   "execution_count": 0,
   "metadata": {
    "application/vnd.databricks.v1+cell": {
     "cellMetadata": {
      "byteLimit": 2048000,
      "rowLimit": 10000
     },
     "inputWidgets": {},
     "nuid": "4d364b30-92fb-475d-9847-108917531541",
     "showTitle": false,
     "tableResultSettingsMap": {},
     "title": ""
    }
   },
   "outputs": [],
   "source": [
    "# Invoke your Databricks serving endpoint\n",
    "import requests\n",
    "from databricks.sdk import WorkspaceClient\n",
    "\n",
    "UC_MODEL_NAME = \"wwc2025.period_pipeline.wellness_agent\"\n",
    "\n",
    "# If you already know it, hardcode:\n",
    "ENDPOINT_NAME = \"agents_wwc2025-period_pipeline-wellness_agent\"   # e.g. \"agents-wellness-agent\"\n",
    "\n",
    "w = WorkspaceClient()\n",
    "tmp_token = w.tokens.create(lifetime_seconds=2400).token_value\n",
    "\n",
    "url = f\"{w.config.host}/serving-endpoints/{ENDPOINT_NAME}/invocations\"\n",
    "headers = {\"Authorization\": f\"Bearer {tmp_token}\"}\n",
    "\n",
    "payload = {\n",
    "  \"input\": [{\"role\": \"user\",\n",
    "             \"content\": \"For user 40, analyze last 40 logs and current cycle phase, then recommend 5 luteal-phase meal & wellness options.\"}],\n",
    "  \"temperature\": 0.2\n",
    "}\n",
    "\n",
    "resp = requests.post(url, headers=headers, json=payload, timeout=120)\n",
    "resp.raise_for_status()\n",
    "print(resp.json())\n"
   ]
  }
 ],
 "metadata": {
  "application/vnd.databricks.v1+notebook": {
   "computePreferences": null,
   "dashboards": [],
   "environmentMetadata": null,
   "inputWidgetPreferences": null,
   "language": "python",
   "notebookMetadata": {
    "pythonIndentUnit": 4
   },
   "notebookName": "4.agent.ipynb",
   "widgets": {}
  },
  "kernelspec": {
   "display_name": "Python 3",
   "language": "python",
   "name": "python3"
  },
  "language_info": {
   "name": "python"
  }
 },
 "nbformat": 4,
 "nbformat_minor": 0
}